{
  "nbformat": 4,
  "nbformat_minor": 0,
  "metadata": {
    "colab": {
      "provenance": []
    },
    "kernelspec": {
      "name": "python3",
      "display_name": "Python 3"
    },
    "language_info": {
      "name": "python"
    }
  },
  "cells": [
    {
      "cell_type": "code",
      "execution_count": 1,
      "metadata": {
        "id": "ExrWi67sF-jq"
      },
      "outputs": [],
      "source": [
        "# import numpy as np\n",
        "import pandas as pd\n",
        "from sklearn.model_selection import train_test_split\n",
        "from sklearn.neighbors import KNeighborsClassifier"
      ]
    },
    {
      "cell_type": "code",
      "source": [
        "# Data Frames erstellen (axis 1 vertical)\n",
        "df = pd.read_csv(\"Kreditwuerdigkeit.csv\")\n",
        "x = df.drop(['ID', 'Kreditrisiko'], axis=1)\n",
        "y = df['Kreditrisiko']"
      ],
      "metadata": {
        "id": "9Tf7cID9Ha_f"
      },
      "execution_count": 3,
      "outputs": []
    },
    {
      "cell_type": "code",
      "source": [
        "# Normierung (axis 0 horizontal)\n",
        "xMin = x.min(axis=0)\n",
        "xMax = x.max(axis=0)\n",
        "xNorm = (x - xMin) / (xMax - xMin)"
      ],
      "metadata": {
        "id": "bts1XRMMHsra"
      },
      "execution_count": 4,
      "outputs": []
    },
    {
      "cell_type": "code",
      "source": [
        "# Train- und Testdaten erstellen\n",
        "percentTrain = 0.8\n",
        "xTrain, xTest, yTrain, yTest = train_test_split(xNorm, y, stratify=y, train_size=percentTrain, random_state=42)"
      ],
      "metadata": {
        "id": "uZXqhcf9I7y3"
      },
      "execution_count": 5,
      "outputs": []
    },
    {
      "cell_type": "code",
      "source": [
        "# kNN Modellbildung\n",
        "# k=5, da 5 verschiedene Stufen: \"nicht kreditwuerdig\", \"sehr gering\", \"gering\", \"durchschnittlich\", \"hoch\"\n",
        "knn_model = KNeighborsClassifier(n_neighbors=5)\n",
        "knn_model.fit(xTrain, yTrain)"
      ],
      "metadata": {
        "colab": {
          "base_uri": "https://localhost:8080/"
        },
        "id": "wZksbmcasgj9",
        "outputId": "2e464308-4039-4382-dc33-924898a44b9c"
      },
      "execution_count": 6,
      "outputs": [
        {
          "output_type": "execute_result",
          "data": {
            "text/plain": [
              "KNeighborsClassifier()"
            ]
          },
          "metadata": {},
          "execution_count": 6
        }
      ]
    },
    {
      "cell_type": "code",
      "source": [
        "# Prediction\n",
        "yPredict = knn_model.predict(xTest)\n",
        "#print(yPredict)"
      ],
      "metadata": {
        "id": "7R0l1oh0slYL"
      },
      "execution_count": 12,
      "outputs": []
    },
    {
      "cell_type": "code",
      "source": [
        "errors = 0\n",
        "print(' ')"
      ],
      "metadata": {
        "colab": {
          "base_uri": "https://localhost:8080/"
        },
        "id": "PtFyy7gJsm0j",
        "outputId": "61ca535b-c1dc-4a72-8b35-63bc0f10f4a4"
      },
      "execution_count": 8,
      "outputs": [
        {
          "output_type": "stream",
          "name": "stdout",
          "text": [
            " \n"
          ]
        }
      ]
    },
    {
      "cell_type": "code",
      "source": [
        "for i in range(len(yTest)):\n",
        "    if yPredict[i] != yTest.iloc[i]:\n",
        "        errors += 1\n",
        "        print('Test Daten Nr. {0} wurden als {1} statt {2} klassifiziert'.format(str(i), \"\\\"\" + str(yPredict[i]) + \"\\\"\",\n",
        "                                                                                 \"\\\"\" + str(yTest.iloc[i]) + \"\\\"\"))\n",
        "        # print('CSV-Datensatz {0} wurde als {1} statt {2} klassifiziert'.format(str(yTest.index[i]), \"\\\"\" + str(yPredict[i]) + \"\\\"\",\"\\\"\" + str(yTest.iloc[i]) + \"\\\"\"))\n",
        "    else:\n",
        "        pass\n",
        "        # print ('{0} wurde als {1} richtig klassifiziert'.format(str(xTest[i,:]), myClass))\n",
        "\n",
        "testsize = len(yTest)"
      ],
      "metadata": {
        "colab": {
          "base_uri": "https://localhost:8080/"
        },
        "id": "-47lJDygspR8",
        "outputId": "6306bb45-00ee-4f62-b721-a382265a5170"
      },
      "execution_count": 9,
      "outputs": [
        {
          "output_type": "stream",
          "name": "stdout",
          "text": [
            "Test Daten Nr. 44 wurden als \"gering\" statt \"sehr gering\" klassifiziert\n",
            "Test Daten Nr. 52 wurden als \"gering\" statt \"sehr gering\" klassifiziert\n",
            "Test Daten Nr. 57 wurden als \"gering\" statt \"sehr gering\" klassifiziert\n",
            "Test Daten Nr. 65 wurden als \"gering\" statt \"sehr gering\" klassifiziert\n",
            "Test Daten Nr. 76 wurden als \"hoch\" statt \"durchschnittlich\" klassifiziert\n",
            "Test Daten Nr. 82 wurden als \"hoch\" statt \"nicht kreditwuerdig\" klassifiziert\n",
            "Test Daten Nr. 110 wurden als \"gering\" statt \"sehr gering\" klassifiziert\n",
            "Test Daten Nr. 112 wurden als \"gering\" statt \"sehr gering\" klassifiziert\n",
            "Test Daten Nr. 121 wurden als \"durchschnittlich\" statt \"hoch\" klassifiziert\n",
            "Test Daten Nr. 135 wurden als \"hoch\" statt \"nicht kreditwuerdig\" klassifiziert\n"
          ]
        }
      ]
    },
    {
      "cell_type": "code",
      "source": [
        "print(\"Anzahl Testdatensätze: {0:d}\".format(testsize))\n",
        "print(\"Anzahl Klassifikationsfehler: {0:d}\".format(errors))\n",
        "# print(\"Classification Error Rate: {0:1.4f}\".format(errors/testsize))\n",
        "print(\"Accuracy: {0:1.4f}\".format(1 - errors / testsize))"
      ],
      "metadata": {
        "colab": {
          "base_uri": "https://localhost:8080/"
        },
        "id": "L30zKgXgstDz",
        "outputId": "1053c386-0f61-459c-aae7-ba9b1ca621aa"
      },
      "execution_count": 10,
      "outputs": [
        {
          "output_type": "stream",
          "name": "stdout",
          "text": [
            "Anzahl Testdatensätze: 136\n",
            "Anzahl Klassifikationsfehler: 10\n",
            "Accuracy: 0.9265\n"
          ]
        }
      ]
    }
  ]
}